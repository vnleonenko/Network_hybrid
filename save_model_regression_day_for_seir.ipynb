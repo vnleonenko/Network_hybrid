{
 "cells": [
  {
   "cell_type": "code",
   "execution_count": 2,
   "metadata": {},
   "outputs": [],
   "source": [
    "import numpy as np\n",
    "import pandas as pd\n",
    "from sklearn.preprocessing import StandardScaler\n",
    "from sklearn.preprocessing import PolynomialFeatures\n",
    "from sklearn.linear_model import SGDRegressor\n",
    "from sklearn.pipeline import make_pipeline\n",
    "from sklearn.model_selection import GridSearchCV\n",
    "import joblib"
   ]
  },
  {
   "cell_type": "code",
   "execution_count": 3,
   "metadata": {},
   "outputs": [
    {
     "name": "stdout",
     "output_type": "stream",
     "text": [
      "Лучшие параметры: {'sgdregressor__alpha': 1, 'sgdregressor__max_iter': 5000, 'sgdregressor__penalty': None}\n",
      "Лучший результат (негативная среднеквадратичная ошибка): -0.23218743326249988\n"
     ]
    }
   ],
   "source": [
    "def load_and_prepare_data(train_df_dir, seeds_number):\n",
    "    train_df = []\n",
    "    for i in range(seeds_number):\n",
    "        seed_df = pd.read_csv(train_df_dir + f'seir_seed_{i}.csv')\n",
    "        seed_df = seed_df[pd.notna(seed_df['Beta'])]\n",
    "        seed_df['seed'] = i\n",
    "        seed_df['day'] = np.arange(len(seed_df))\n",
    "        train_df.append(seed_df)\n",
    "    \n",
    "    train_df = pd.concat(train_df, ignore_index=True)\n",
    "    train_df = train_df[train_df['Beta'] > 0].copy()\n",
    "    train_df['log_Beta'] = np.log(train_df['Beta'])\n",
    "    return train_df\n",
    "\n",
    "def train_model(train_df, model_file):\n",
    "    X = train_df[['day']].values\n",
    "    y = train_df['log_Beta'].values\n",
    "    \n",
    "    # Параметры для grid search\n",
    "    param_grid = {\n",
    "        'sgdregressor__alpha': [0.01, 0.1, 1, 10],   # Параметр регуляризации\n",
    "        'sgdregressor__max_iter': [3000, 5000, 10000],  # Максимальное количество итераций\n",
    "        'sgdregressor__penalty': ['l2', 'l1', None],  # Разные типы регуляризации \n",
    "    }\n",
    "\n",
    "    model = make_pipeline(\n",
    "        StandardScaler(),\n",
    "        PolynomialFeatures(include_bias=False, degree=3),\n",
    "        SGDRegressor(warm_start=False)\n",
    "    )\n",
    "\n",
    "    # Настройка GridSearchCV с использованием 5-кратной кросс-валидации и оценкой по MSE\n",
    "    grid_search = GridSearchCV(model, param_grid, cv=5, scoring='neg_mean_squared_error')\n",
    "    grid_search.fit(X, y)\n",
    "\n",
    "    # Выводим лучшие параметры и их результат\n",
    "    print(f\"Лучшие параметры: {grid_search.best_params_}\")\n",
    "    print(f\"Лучший результат (негативная среднеквадратичная ошибка): {grid_search.best_score_}\")\n",
    "    \n",
    "    # Сохраняем лучшую модель\n",
    "    joblib.dump(grid_search.best_estimator_, model_file)\n",
    "\n",
    "train_df_dir = f'data/train/'\n",
    "seeds_number = 1200\n",
    "model_file = 'regression_day_for_seir.joblib'\n",
    "\n",
    "train_df = load_and_prepare_data(train_df_dir, seeds_number)\n",
    "train_model(train_df, model_file)"
   ]
  }
 ],
 "metadata": {
  "kernelspec": {
   "display_name": "conda_env",
   "language": "python",
   "name": "python3"
  },
  "language_info": {
   "codemirror_mode": {
    "name": "ipython",
    "version": 3
   },
   "file_extension": ".py",
   "mimetype": "text/x-python",
   "name": "python",
   "nbconvert_exporter": "python",
   "pygments_lexer": "ipython3",
   "version": "3.11.9"
  }
 },
 "nbformat": 4,
 "nbformat_minor": 2
}
