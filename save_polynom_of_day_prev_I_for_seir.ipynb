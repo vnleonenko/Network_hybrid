{
 "cells": [
  {
   "cell_type": "code",
   "execution_count": null,
   "metadata": {},
   "outputs": [
    {
     "name": "stderr",
     "output_type": "stream",
     "text": [
      "c:\\Users\\User\\anaconda3\\envs\\conda2\\lib\\site-packages\\sklearn\\linear_model\\_ridge.py:216: LinAlgWarning: Ill-conditioned matrix (rcond=5.21468e-24): result may not be accurate.\n",
      "  return linalg.solve(A, Xy, assume_a=\"pos\", overwrite_a=True).T\n"
     ]
    }
   ],
   "source": [
    "import numpy as np\n",
    "import pandas as pd\n",
    "from sklearn.preprocessing import PolynomialFeatures\n",
    "from sklearn.linear_model import Ridge\n",
    "from sklearn.pipeline import make_pipeline\n",
    "import joblib\n",
    "\n",
    "def load_and_prepare_data(train_df_dir, seeds_number):\n",
    "    train_df = []\n",
    "    for i in range(seeds_number):\n",
    "        seed_df = pd.read_csv(train_df_dir + f'seir_seed_{i}.csv')\n",
    "        seed_df = seed_df[pd.notna(seed_df['Beta'])]\n",
    "        seed_df['prev_I'] = seed_df['I'].shift(-1).fillna(0)\n",
    "        seed_df['seed'] = i\n",
    "        seed_df['day'] = np.arange(len(seed_df))\n",
    "        train_df.append(seed_df)\n",
    "    \n",
    "    train_df = pd.concat(train_df, ignore_index=True)\n",
    "    train_df = train_df[train_df['Beta'] > 0].copy()\n",
    "    train_df['log_Beta'] = np.log(train_df['Beta'])\n",
    "    return train_df\n",
    "\n",
    "def train_model(train_df, degree, model_file):\n",
    "    X = train_df[['day', 'prev_I']].values\n",
    "    y = train_df['log_Beta'].values\n",
    "    \n",
    "    weights = np.linspace(0.1, 1, len(X))\n",
    "    \n",
    "    model = make_pipeline(\n",
    "        StandardScaler(),\n",
    "        # Bias should be excluded because by default SGDRegressor adds bias via the \"fit_intercept\" parameter\n",
    "        PolynomialFeatures(include_bias=False, degree=3),\n",
    "        SGDRegressor(max_iter=10000, penalty='l2', alpha=0.1, \n",
    "                     warm_start=False))\n",
    "    model.fit(X, y)\n",
    "\n",
    "    joblib.dump(model, model_file)\n",
    "\n",
    "train_df_dir = f'train_data/'\n",
    "seeds_number = 1500\n",
    "model_file = 'polynom_of_day_prev_I_for_seir.joblib'\n",
    "degree = 3\n",
    "train_df = load_and_prepare_data(train_df_dir, seeds_number)\n",
    "model = train_model(train_df, degree, model_file)\n",
    "\n",
    "\n"
   ]
  }
 ],
 "metadata": {
  "kernelspec": {
   "display_name": "Python [conda env:abm_sier_rnf]",
   "language": "python",
   "name": "conda-env-abm_sier_rnf-py"
  },
  "language_info": {
   "codemirror_mode": {
    "name": "ipython",
    "version": 3
   },
   "file_extension": ".py",
   "mimetype": "text/x-python",
   "name": "python",
   "nbconvert_exporter": "python",
   "pygments_lexer": "ipython3",
   "version": "3.11.10"
  }
 },
 "nbformat": 4,
 "nbformat_minor": 4
}
