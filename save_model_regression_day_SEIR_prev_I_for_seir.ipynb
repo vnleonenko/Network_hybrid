{
 "cells": [
  {
   "cell_type": "code",
   "execution_count": 2,
   "metadata": {},
   "outputs": [],
   "source": [
    "import numpy as np\n",
    "import pandas as pd\n",
    "from sklearn.preprocessing import StandardScaler\n",
    "from sklearn.preprocessing import PolynomialFeatures\n",
    "from sklearn.linear_model import SGDRegressor\n",
    "from sklearn.pipeline import make_pipeline\n",
    "from sklearn.model_selection import GridSearchCV\n",
    "import joblib"
   ]
  },
  {
   "cell_type": "code",
   "execution_count": 1,
   "metadata": {},
   "outputs": [
    {
     "ename": "NameError",
     "evalue": "name 'pd' is not defined",
     "output_type": "error",
     "traceback": [
      "\u001b[31m---------------------------------------------------------------------------\u001b[39m",
      "\u001b[31mNameError\u001b[39m                                 Traceback (most recent call last)",
      "\u001b[36mCell\u001b[39m\u001b[36m \u001b[39m\u001b[32mIn[1]\u001b[39m\u001b[32m, line 35\u001b[39m\n\u001b[32m     32\u001b[39m seeds_number = \u001b[32m1200\u001b[39m\n\u001b[32m     33\u001b[39m model_file = \u001b[33m'\u001b[39m\u001b[33mregression_day_SEIR_prev_I_for_seir.joblib\u001b[39m\u001b[33m'\u001b[39m\n\u001b[32m---> \u001b[39m\u001b[32m35\u001b[39m train_df = \u001b[43mload_and_prepare_data\u001b[49m\u001b[43m(\u001b[49m\u001b[43mtrain_df_dir\u001b[49m\u001b[43m,\u001b[49m\u001b[43m \u001b[49m\u001b[43mseeds_number\u001b[49m\u001b[43m)\u001b[49m\n\u001b[32m     36\u001b[39m train_model(train_df, model_file)\n",
      "\u001b[36mCell\u001b[39m\u001b[36m \u001b[39m\u001b[32mIn[1]\u001b[39m\u001b[32m, line 4\u001b[39m, in \u001b[36mload_and_prepare_data\u001b[39m\u001b[34m(train_df_dir, seeds_number)\u001b[39m\n\u001b[32m      2\u001b[39m train_df = []\n\u001b[32m      3\u001b[39m \u001b[38;5;28;01mfor\u001b[39;00m i \u001b[38;5;129;01min\u001b[39;00m \u001b[38;5;28mrange\u001b[39m(seeds_number):\n\u001b[32m----> \u001b[39m\u001b[32m4\u001b[39m     seed_df = \u001b[43mpd\u001b[49m.read_csv(train_df_dir + \u001b[33mf\u001b[39m\u001b[33m'\u001b[39m\u001b[33mseir_seed_\u001b[39m\u001b[38;5;132;01m{\u001b[39;00mi\u001b[38;5;132;01m}\u001b[39;00m\u001b[33m.csv\u001b[39m\u001b[33m'\u001b[39m)\n\u001b[32m      5\u001b[39m     seed_df = seed_df[pd.notna(seed_df[\u001b[33m'\u001b[39m\u001b[33mBeta\u001b[39m\u001b[33m'\u001b[39m])]\n\u001b[32m      6\u001b[39m     seed_df[\u001b[33m'\u001b[39m\u001b[33mprev_I\u001b[39m\u001b[33m'\u001b[39m] = seed_df[\u001b[33m'\u001b[39m\u001b[33mI\u001b[39m\u001b[33m'\u001b[39m].shift(-\u001b[32m2\u001b[39m).fillna(\u001b[32m0\u001b[39m)\n",
      "\u001b[31mNameError\u001b[39m: name 'pd' is not defined"
     ]
    }
   ],
   "source": [
    "\n",
    "def load_and_prepare_data(train_df_dir, seeds_number):\n",
    "    train_df = []\n",
    "    for i in range(seeds_number):\n",
    "        seed_df = pd.read_csv(train_df_dir + f'seir_seed_{i}.csv')\n",
    "        seed_df = seed_df[pd.notna(seed_df['Beta'])]\n",
    "        seed_df['prev_I'] = seed_df['I'].shift(-2).fillna(0)\n",
    "        seed_df['seed'] = i\n",
    "        seed_df['day'] = np.arange(len(seed_df))\n",
    "        train_df.append(seed_df)\n",
    "    \n",
    "    train_df = pd.concat(train_df, ignore_index=True)\n",
    "    train_df = train_df[train_df['Beta'] > 0].copy()\n",
    "    train_df['log_Beta'] = np.log(train_df['Beta'])\n",
    "    return train_df\n",
    "\n",
    "def train_model(train_df, model_file):\n",
    "    X = train_df[['day', 'S', 'E', 'I', 'R', 'prev_I']].values\n",
    "    y = train_df['log_Beta'].values\n",
    "    \n",
    "    model = make_pipeline(\n",
    "        StandardScaler(),\n",
    "        PolynomialFeatures(include_bias=False, degree=3),\n",
    "        SGDRegressor(max_iter=5000, penalty='l2', alpha=0.1, \n",
    "                     warm_start=False))\n",
    "    model.fit(X, y)\n",
    "\n",
    "    \n",
    "    # Сохраняем лучшую модель\n",
    "    joblib.dump(model, model_file)\n",
    "\n",
    "train_df_dir = f'data/train/'\n",
    "seeds_number = 1200\n",
    "model_file = 'regression_day_SEIR_prev_I_for_seir.joblib'\n",
    "\n",
    "train_df = load_and_prepare_data(train_df_dir, seeds_number)\n",
    "train_model(train_df, model_file)\n"
   ]
  },
  {
   "cell_type": "code",
   "execution_count": 3,
   "metadata": {},
   "outputs": [
    {
     "name": "stdout",
     "output_type": "stream",
     "text": [
      "Лучшие параметры: {'sgdregressor__alpha': 0.1, 'sgdregressor__max_iter': 5000, 'sgdregressor__penalty': 'l2'}\n",
      "Лучший результат (негативная среднеквадратичная ошибка): -0.22562586163866385\n"
     ]
    }
   ],
   "source": [
    "\n",
    "def load_and_prepare_data(train_df_dir, seeds_number):\n",
    "    train_df = []\n",
    "    for i in range(seeds_number):\n",
    "        seed_df = pd.read_csv(train_df_dir + f'seir_seed_{i}.csv')\n",
    "        seed_df = seed_df[pd.notna(seed_df['Beta'])]\n",
    "        seed_df['prev_I'] = seed_df['I'].shift(-2).fillna(0)\n",
    "        seed_df['seed'] = i\n",
    "        seed_df['day'] = np.arange(len(seed_df))\n",
    "        train_df.append(seed_df)\n",
    "    \n",
    "    train_df = pd.concat(train_df, ignore_index=True)\n",
    "    train_df = train_df[train_df['Beta'] > 0].copy()\n",
    "    train_df['log_Beta'] = np.log(train_df['Beta'])\n",
    "    return train_df\n",
    "\n",
    "def train_model(train_df, model_file):\n",
    "    X = train_df[['day', 'S', 'E', 'I', 'R', 'prev_I']].values\n",
    "    y = train_df['log_Beta'].values\n",
    "    \n",
    "    # Параметры для grid search\n",
    "    param_grid = {\n",
    "        'sgdregressor__alpha': [0.1, 1],   # Параметр регуляризации\n",
    "        'sgdregressor__max_iter': [5000],  # Максимальное количество итераций\n",
    "        'sgdregressor__penalty': ['l2', 'l1', None],  # Разные типы регуляризации \n",
    "    }\n",
    "\n",
    "    model = make_pipeline(\n",
    "        StandardScaler(),\n",
    "        PolynomialFeatures(include_bias=False, degree=3),\n",
    "        SGDRegressor(warm_start=False)\n",
    "    )\n",
    "\n",
    "    # Настройка GridSearchCV с использованием 5-кратной кросс-валидации и оценкой по MSE\n",
    "    grid_search = GridSearchCV(model, param_grid, cv=5, scoring='neg_mean_squared_error')\n",
    "    grid_search.fit(X, y)\n",
    "\n",
    "    # Выводим лучшие параметры и их результат\n",
    "    print(f\"Лучшие параметры: {grid_search.best_params_}\")\n",
    "    print(f\"Лучший результат (негативная среднеквадратичная ошибка): {grid_search.best_score_}\")\n",
    "    \n",
    "    # Сохраняем лучшую модель\n",
    "    joblib.dump(grid_search.best_estimator_, model_file)\n",
    "\n",
    "train_df_dir = f'data/train/'\n",
    "seeds_number = 1200\n",
    "model_file = 'regression_day_SEIR_prev_I_for_seir.joblib'\n",
    "\n",
    "train_df = load_and_prepare_data(train_df_dir, seeds_number)\n",
    "train_model(train_df, model_file)\n"
   ]
  }
 ],
 "metadata": {
  "kernelspec": {
   "display_name": "conda_env",
   "language": "python",
   "name": "python3"
  },
  "language_info": {
   "codemirror_mode": {
    "name": "ipython",
    "version": 3
   },
   "file_extension": ".py",
   "mimetype": "text/x-python",
   "name": "python",
   "nbconvert_exporter": "python",
   "pygments_lexer": "ipython3",
   "version": "3.11.9"
  }
 },
 "nbformat": 4,
 "nbformat_minor": 4
}
