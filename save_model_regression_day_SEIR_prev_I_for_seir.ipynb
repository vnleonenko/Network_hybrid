{
 "cells": [
  {
   "cell_type": "code",
   "execution_count": 3,
   "metadata": {},
   "outputs": [],
   "source": [
    "import numpy as np\n",
    "import pandas as pd\n",
    "from sklearn.preprocessing import StandardScaler\n",
    "from sklearn.preprocessing import PolynomialFeatures\n",
    "from sklearn.linear_model import SGDRegressor\n",
    "from sklearn.pipeline import make_pipeline\n",
    "from sklearn.model_selection import GridSearchCV\n",
    "import joblib"
   ]
  },
  {
   "cell_type": "code",
   "execution_count": 4,
   "metadata": {},
   "outputs": [],
   "source": [
    "def load_and_prepare_data(train_dir, val_dir, seeds_number_train, seeds_number_val):\n",
    "    train_df = []\n",
    "    for i in range(seeds_number_train):\n",
    "        seed_df = pd.read_csv(train_dir + f'seir_seed_{i}.csv')\n",
    "        seed_df['prev_I'] = seed_df['I'].shift(-1).fillna(0)\n",
    "        seed_df['day'] = np.arange(len(seed_df))\n",
    "        train_df.append(seed_df)\n",
    "    for i in range(seeds_number_val):\n",
    "        seed_df = pd.read_csv(val_dir + f'seir_seed_{i}.csv')\n",
    "        seed_df['prev_I'] = seed_df['I'].shift(-1).fillna(0)\n",
    "        seed_df['day'] = np.arange(len(seed_df))\n",
    "        train_df.append(seed_df)\n",
    "    \n",
    "    train_df = pd.concat(train_df, ignore_index=True)\n",
    "    train_df = train_df[(train_df['Beta'] > 0)].copy()\n",
    "    train_df['log_Beta'] = np.log(train_df['Beta'])\n",
    "    return train_df\n",
    "\n",
    "def train_model(train_df, model_file,features):\n",
    "    X = train_df[features].values\n",
    "    y = train_df['log_Beta'].values\n",
    "\n",
    "    model = make_pipeline(\n",
    "        StandardScaler(),\n",
    "        PolynomialFeatures(include_bias=False, degree=3),\n",
    "        SGDRegressor(alpha=0.1, max_iter=5000, penalty='l2',warm_start=False)\n",
    "    )\n",
    "    model.fit(X, y)\n",
    "\n",
    "    # Сохраняем лучшую модель\n",
    "    joblib.dump(model, model_file)\n",
    "\n",
    "\n",
    "train_dir = f'train/'\n",
    "val_dir = f'val/'\n",
    "seeds_number_train = 960\n",
    "seeds_number_val = 240\n",
    "model_file = 'regression_day_SEIR_prev_I_for_seir.joblib'\n",
    "features = ['day', 'prev_I', 'S', 'E', 'I', 'R']\n",
    "\n",
    "train_df = load_and_prepare_data(train_dir, val_dir, seeds_number_train, seeds_number_val)\n",
    "train_model(train_df, model_file, features)\n"
   ]
  }
 ],
 "metadata": {
  "kernelspec": {
   "display_name": "conda_env",
   "language": "python",
   "name": "python3"
  },
  "language_info": {
   "codemirror_mode": {
    "name": "ipython",
    "version": 3
   },
   "file_extension": ".py",
   "mimetype": "text/x-python",
   "name": "python",
   "nbconvert_exporter": "python",
   "pygments_lexer": "ipython3",
   "version": "3.11.9"
  }
 },
 "nbformat": 4,
 "nbformat_minor": 4
}
